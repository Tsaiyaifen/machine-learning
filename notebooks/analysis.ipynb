{
 "cells": [
  {
   "cell_type": "markdown",
   "metadata": {},
   "source": [
    "# Data Analysis Notebook"
   ]
  },
  {
   "cell_type": "code",
   "execution_count": null,
   "metadata": {},
   "outputs": [],
   "source": [
    "import pandas as pd\n",
    "from modules.data_cleaning import clean_data\n",
    "from modules.data_analysis import summary_statistics, sales_by_product\n",
    "\n",
    "df = pd.read_csv('../data/raw/sales.csv')\n",
    "df_clean = clean_data(df)\n",
    "print(summary_statistics(df_clean))\n",
    "print(sales_by_product(df_clean))"
   ]
  }
 ],
 "metadata": {
  "kernelspec": {
   "display_name": "Python 3",
   "language": "python",
   "name": "python3"
  },
  "language_info": {
   "name": "python",
   "version": "3.9"
  }
 },
 "nbformat": 4,
 "nbformat_minor": 5
}